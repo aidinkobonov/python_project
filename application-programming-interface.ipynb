{
 "cells": [
  {
   "cell_type": "code",
   "execution_count": 12,
   "metadata": {},
   "outputs": [
    {
     "name": "stdout",
     "output_type": "stream",
     "text": [
      "Welcome to FuchiCorp API\n"
     ]
    }
   ],
   "source": [
    "import requests\n",
    "\n",
    "response = requests.get('https://api.academy.fuchicorp.com/').json()\n",
    "print(response['message'])"
   ]
  },
  {
   "cell_type": "code",
   "execution_count": 6,
   "metadata": {},
   "outputs": [
    {
     "name": "stdout",
     "output_type": "stream",
     "text": [
      "Requirement already satisfied: requests in /usr/lib/python3.6/site-packages\n",
      "Requirement already satisfied: idna<2.9,>=2.5 in /usr/lib/python3.6/site-packages (from requests)\n",
      "Requirement already satisfied: certifi>=2017.4.17 in /usr/lib/python3.6/site-packages (from requests)\n",
      "Requirement already satisfied: urllib3!=1.25.0,!=1.25.1,<1.26,>=1.21.1 in /usr/lib/python3.6/site-packages (from requests)\n",
      "Requirement already satisfied: chardet<3.1.0,>=3.0.2 in /usr/lib/python3.6/site-packages (from requests)\n",
      "\u001b[33mYou are using pip version 9.0.1, however version 19.1.1 is available.\n",
      "You should consider upgrading via the 'pip install --upgrade pip' command.\u001b[0m\n"
     ]
    }
   ],
   "source": [
    "!python3.6 -m pip install requests"
   ]
  },
  {
   "cell_type": "code",
   "execution_count": 18,
   "metadata": {},
   "outputs": [
    {
     "name": "stdout",
     "output_type": "stream",
     "text": [
      "{'anonymus': True, 'email': 'fuchicorpsolution@gmail.com', 'message': 'Welcome to FuchiCorp API', 'owner': 'Farkhod Sadykov', 'status': 200}\n"
     ]
    }
   ],
   "source": [
    "import requests\n",
    "\n",
    "response = requests.get('https://api.academy.fuchicorp.com/')\n",
    "if response .status_code == 200:\n",
    "    print(response.json())\n",
    "else:\n",
    "    print('smth is wrong bruh')"
   ]
  },
  {
   "cell_type": "code",
   "execution_count": 32,
   "metadata": {},
   "outputs": [
    {
     "name": "stdout",
     "output_type": "stream",
     "text": [
      "{'message': 'User has been created!!'}\n"
     ]
    }
   ],
   "source": [
    "user = {}\n",
    "user['username'] = 'aidin'\n",
    "user['password'] = 'aidin'\n",
    "user['firstname'] = 'Aidin'\n",
    "user['lastname'] = 'Aidin'\n",
    "user['email'] = 'aidinaidin@gmail.com'\n",
    "response = requests.post('http://api.academy.fuchicorp.com/v0.1/create_example/user', json=user)\n",
    "print(response.json())"
   ]
  },
  {
   "cell_type": "code",
   "execution_count": 31,
   "metadata": {},
   "outputs": [
    {
     "name": "stdout",
     "output_type": "stream",
     "text": [
      "{'message': 'User already exist in system!!'}\n"
     ]
    }
   ],
   "source": [
    "my_id = 'd53b97e5-6807-46c1-8dfc-b9e0d69d45fa'\n",
    "url = f'https://api.academy.fuchicorp.com/v0.1/update_example/user/{my_id}'\n",
    "user = {}\n",
    "user['username'] = 'koba'\n",
    "user['password'] = 'koba'\n",
    "user['firstname'] = 'Aidin'\n",
    "user['lastname'] = 'Aidin'\n",
    "user['email'] = 'aidinaidin@gmail.com'\n",
    "response = requests.put(url, json=user)\n",
    "print(response.json())"
   ]
  }
 ],
 "metadata": {
  "kernelspec": {
   "display_name": "Python 3",
   "language": "python",
   "name": "python3"
  },
  "language_info": {
   "codemirror_mode": {
    "name": "ipython",
    "version": 3
   },
   "file_extension": ".py",
   "mimetype": "text/x-python",
   "name": "python",
   "nbconvert_exporter": "python",
   "pygments_lexer": "ipython3",
   "version": "3.6.5"
  }
 },
 "nbformat": 4,
 "nbformat_minor": 2
}
