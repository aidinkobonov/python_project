{
 "cells": [
  {
   "cell_type": "code",
   "execution_count": null,
   "metadata": {},
   "outputs": [],
   "source": [
    "door = 'close'\n",
    "if door == 'open':\n",
    "    print('Yes, you can go')\n",
    "elif door == 'close':\n",
    "    print('No, you can not go')"
   ]
  },
  {
   "cell_type": "code",
   "execution_count": null,
   "metadata": {},
   "outputs": [],
   "source": [
    "door = 'fvc'\n",
    "if door == 'open':\n",
    "    print('Yes, you can go')\n",
    "elif door == 'close':\n",
    "    print('No, you can not go')\n",
    "else:\n",
    "    print('something is wrong')"
   ]
  },
  {
   "cell_type": "code",
   "execution_count": null,
   "metadata": {},
   "outputs": [],
   "source": [
    "name = input('what is your name? :')\n",
    "print('Hello' + name)"
   ]
  },
  {
   "cell_type": "code",
   "execution_count": 2,
   "metadata": {},
   "outputs": [
    {
     "name": "stdout",
     "output_type": "stream",
     "text": [
      "what is your name? :Aidin\n",
      "KandayAidin\n"
     ]
    }
   ],
   "source": [
    "name = input('what is your name? :')\n",
    "if name == 'Anna':\n",
    "    print ('Privet' + name)\n",
    "elif name == 'Aidin':\n",
    "    print('Kanday' + name) \n",
    "else:\n",
    "    print('Hello' + name)"
   ]
  },
  {
   "cell_type": "code",
   "execution_count": 4,
   "metadata": {},
   "outputs": [
    {
     "name": "stdout",
     "output_type": "stream",
     "text": [
      "what is your name? :aidin\n",
      "Kandayaidin\n"
     ]
    }
   ],
   "source": [
    "name = input('what is your name? :')\n",
    "if name.capitalize() == 'Anna':\n",
    "    print ('Privet' + name)\n",
    "elif name.capitalize() == 'Aidin':\n",
    "    print('Kanday' + name) \n",
    "else:\n",
    "    print('Hello' + name)"
   ]
  },
  {
   "cell_type": "code",
   "execution_count": 5,
   "metadata": {},
   "outputs": [
    {
     "name": "stdout",
     "output_type": "stream",
     "text": [
      "what is your name? :anna\n",
      "PrivetAnna\n"
     ]
    }
   ],
   "source": [
    "name = input('what is your name? :')\n",
    "name = name.capitalize()\n",
    "if name == 'Anna':\n",
    "    print ('Privet' + name)\n",
    "elif name == 'Aidin':\n",
    "    print('Kanday' + name) \n",
    "else:\n",
    "    print('Hello' + name)"
   ]
  },
  {
   "cell_type": "code",
   "execution_count": 9,
   "metadata": {},
   "outputs": [
    {
     "name": "stdout",
     "output_type": "stream",
     "text": [
      "What is your name? :Aidin\n",
      "Hola welcome to the class\n"
     ]
    }
   ],
   "source": [
    "black_list = ['Abdul', 'Farkhod', 'Florin']\n",
    "student = input('What is your name? :')\n",
    "student = student.capitalize()\n",
    "if student in black_list:\n",
    "    print('Sorry you can not come in')\n",
    "else:\n",
    "    print('Hola welcome to the class')"
   ]
  },
  {
   "cell_type": "code",
   "execution_count": 12,
   "metadata": {},
   "outputs": [
    {
     "name": "stdout",
     "output_type": "stream",
     "text": [
      "What is your name? :aidin\n",
      "What is your birthday <year>? :1989\n",
      "Aidin\n"
     ]
    }
   ],
   "source": [
    "name = input('What is your name? :').capitalize()\n",
    "year = int(input('What is your birthday <year>? :'))\n",
    "print(name)\n"
   ]
  },
  {
   "cell_type": "code",
   "execution_count": 13,
   "metadata": {},
   "outputs": [
    {
     "name": "stdout",
     "output_type": "stream",
     "text": [
      "What is your name? :aidin\n",
      "What is your birthday <year>? :1989\n",
      "Your name is :Aidin, Your age is :30\n"
     ]
    }
   ],
   "source": [
    "name = input('What is your name? :').capitalize()\n",
    "year = int(input('What is your birthday <year>? :'))\n",
    "now =  2019\n",
    "age = now - year\n",
    "print(f'Your name is :{name}, Your age is :{age}')"
   ]
  },
  {
   "cell_type": "code",
   "execution_count": 18,
   "metadata": {},
   "outputs": [
    {
     "name": "stdout",
     "output_type": "stream",
     "text": [
      "sorry bro\n"
     ]
    }
   ],
   "source": [
    "door = False\n",
    "if door == True:\n",
    "    print('please come in')\n",
    "else:\n",
    "    print('sorry bro')"
   ]
  },
  {
   "cell_type": "code",
   "execution_count": 25,
   "metadata": {},
   "outputs": [
    {
     "name": "stdout",
     "output_type": "stream",
     "text": [
      "##########################################\n",
      "##### Information about Abdul Sharif #####\n",
      "##########################################\n",
      "## Username: asharif\n",
      "## Full Name: Abdul Sharif\n",
      "## User can not login\n"
     ]
    }
   ],
   "source": [
    "student = {\n",
    "    'first_name': 'Abdul',\n",
    "    'last_name': 'Sharif',\n",
    "    'username': 'asharif',\n",
    "    'password': 'redhat',\n",
    "    'status': False,\n",
    "    'classes': ['Python', 'Terraform', 'Ansible']\n",
    "}\n",
    "print('##########################################')\n",
    "print(f'##### Information about {student[\"first_name\"]} {student[\"last_name\"]} #####' )\n",
    "print('##########################################')\n",
    "print(f'## Username: {student[\"username\"]}')\n",
    "print(f'## Full Name: {student[\"first_name\"]} {student[\"last_name\"]}' )\n",
    "      \n",
    "if student ['status']:\n",
    "      print('## User can login')\n",
    "else:\n",
    "      print('## User can not login')"
   ]
  },
  {
   "cell_type": "code",
   "execution_count": 26,
   "metadata": {},
   "outputs": [
    {
     "name": "stdout",
     "output_type": "stream",
     "text": [
      "##########################################\n",
      "##### Information about Abdul Sharif #####\n",
      "##########################################\n",
      "## Username: asharif\n",
      "## Full Name: Abdul Sharif\n",
      "## User can not login\n",
      "## User attends Python class\n"
     ]
    }
   ],
   "source": [
    "student = {\n",
    "    'first_name': 'Abdul',\n",
    "    'last_name': 'Sharif',\n",
    "    'username': 'asharif',\n",
    "    'password': 'redhat',\n",
    "    'status': False,\n",
    "    'classes': ['Python', 'Terraform', 'Ansible']\n",
    "}\n",
    "print('##########################################')\n",
    "print(f'##### Information about {student[\"first_name\"]} {student[\"last_name\"]} #####' )\n",
    "print('##########################################')\n",
    "print(f'## Username: {student[\"username\"]}')\n",
    "print(f'## Full Name: {student[\"first_name\"]} {student[\"last_name\"]}' )\n",
    "      \n",
    "if student ['status']:\n",
    "      print('## User can login')\n",
    "else:\n",
    "      print('## User can not login')\n",
    "if 'Python' in student ['classes']:\n",
    "      print(f'## User attends Python class')"
   ]
  }
 ],
 "metadata": {
  "kernelspec": {
   "display_name": "Python 3",
   "language": "python",
   "name": "python3"
  },
  "language_info": {
   "codemirror_mode": {
    "name": "ipython",
    "version": 3
   },
   "file_extension": ".py",
   "mimetype": "text/x-python",
   "name": "python",
   "nbconvert_exporter": "python",
   "pygments_lexer": "ipython3",
   "version": "3.6.5"
  }
 },
 "nbformat": 4,
 "nbformat_minor": 2
}
