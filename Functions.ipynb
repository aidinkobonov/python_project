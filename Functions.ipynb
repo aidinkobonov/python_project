{
 "cells": [
  {
   "cell_type": "code",
   "execution_count": 2,
   "metadata": {},
   "outputs": [],
   "source": [
    "def my_function(username, password):\n",
    "    print(f'User {username}')\n",
    "    print(f'Password {password}')          \n",
    "  #  print('Hello from function')"
   ]
  },
  {
   "cell_type": "code",
   "execution_count": null,
   "metadata": {},
   "outputs": [],
   "source": [
    "print(my_function)"
   ]
  },
  {
   "cell_type": "code",
   "execution_count": 4,
   "metadata": {},
   "outputs": [
    {
     "name": "stdout",
     "output_type": "stream",
     "text": [
      "User fsadykov:\n",
      "Password redhat:\n"
     ]
    }
   ],
   "source": [
    "my_function('fsadykov', 'redhat')"
   ]
  },
  {
   "cell_type": "code",
   "execution_count": 80,
   "metadata": {},
   "outputs": [],
   "source": [
    "evolveCyberDatabase = []\n",
    "def new_student(first_name, last_name, username, group):\n",
    "    student = {}\n",
    "    student['first-name'] = first_name.capitalize()\n",
    "    student['last-name']  = last_name.capitalize()\n",
    "    student['username']   = username.lower()\n",
    "    student['group']      = group.capitalize()\n",
    "    evolveCyberDatabase.append(student)\n",
    "    print(f'User {username}, has been added to EvolveCyber.')\n",
    "    \n",
    "def delete_student(username):\n",
    "    for user in evolveCyberDatabase:\n",
    "        if user['username'] == username:\n",
    "            evolveCyberDatabase.remove(user)\n",
    "            print(f'User {username}, has been deleted from EvolveCyber.')\n",
    "        else:\n",
    "            print('User not found')\n",
    "            \n",
    "def change_fullname(username, first_name = None, last_name = None):\n",
    "    for user in evolveCyberDatabase:\n",
    "        if user['username'] == username:\n",
    "            if first_name:\n",
    "                user['first-name'] = first_name\n",
    "                print ('first name has been updated')\n",
    "            if last_name:\n",
    "                user['last-name'] = last_name\n",
    "                print('last name has been updated')\n",
    "            user['first_name'] = first_name\n",
    "            user['last_name'] = last_name\n",
    "            print(user)\n",
    "   \n",
    "def does_student_exist(username):\n",
    "    for user in evolveCyberDatabase:\n",
    "        if username == user['username']:\n",
    "            return True\n",
    "    return False\n",
    "\n",
    "def find_student(username):\n",
    "    for user in evolveCyberDatabase:\n",
    "        if(username == user['username']):\n",
    "            return user\n",
    "    return False\n",
    "    "
   ]
  },
  {
   "cell_type": "code",
   "execution_count": 81,
   "metadata": {},
   "outputs": [
    {
     "name": "stdout",
     "output_type": "stream",
     "text": [
      "User aziza93, has been added to EvolveCyber.\n",
      "User abdilcoder, has been added to EvolveCyber.\n",
      "User fsadykov, has been added to EvolveCyber.\n"
     ]
    }
   ],
   "source": [
    "new_student('Aziza', 'Nemad', 'aziza93', 'devops')\n",
    "new_student('abdul', 'sharif', 'abdilcoder', 'dev')\n",
    "new_student('farkhod', 'sadykov', 'fsadykov', 'dev')"
   ]
  },
  {
   "cell_type": "code",
   "execution_count": 82,
   "metadata": {},
   "outputs": [
    {
     "name": "stdout",
     "output_type": "stream",
     "text": [
      "{'first-name': 'Farkhod', 'last-name': 'Sadykov', 'username': 'fsadykov', 'group': 'Dev'}\n"
     ]
    }
   ],
   "source": [
    "print(find_student('fsadykov'))"
   ]
  },
  {
   "cell_type": "code",
   "execution_count": 77,
   "metadata": {},
   "outputs": [
    {
     "name": "stdout",
     "output_type": "stream",
     "text": [
      "True\n",
      "False\n"
     ]
    }
   ],
   "source": [
    "print(does_student_exist('fsadykov'))\n",
    "print(does_student_exist('aidin'))"
   ]
  },
  {
   "cell_type": "code",
   "execution_count": 63,
   "metadata": {},
   "outputs": [
    {
     "name": "stdout",
     "output_type": "stream",
     "text": [
      "[{'first-name': 'Aziza', 'last-name': 'Nemad', 'username': 'aziza93', 'group': 'Devops'}, {'first-name': 'Abdul', 'last-name': 'Sharif', 'username': 'abdilcoder', 'group': 'Dev'}, {'first-name': 'Farkhod', 'last-name': 'Sadykov', 'username': 'fsadykov', 'group': 'Dev'}]\n",
      "User not found\n",
      "User not found\n",
      "User fsadykov, has been deleted from EvolveCyber.\n"
     ]
    }
   ],
   "source": [
    "print(evolveCyberDatabase)\n",
    "delete_student('fsadykov')"
   ]
  },
  {
   "cell_type": "code",
   "execution_count": 64,
   "metadata": {},
   "outputs": [
    {
     "name": "stdout",
     "output_type": "stream",
     "text": [
      "{'first-name': 'Aziza', 'last-name': 'Nemad', 'username': 'aziza93', 'group': 'Devops'}\n",
      "{'first-name': 'Abdul', 'last-name': 'Sharif', 'username': 'abdilcoder', 'group': 'Dev'}\n"
     ]
    }
   ],
   "source": [
    "for item in evolveCyberDatabase:\n",
    "    if item['username'] == 'abdilcoder':\n",
    "        evolveCyberDatabase.remove(item)\n",
    "    print(item)"
   ]
  },
  {
   "cell_type": "code",
   "execution_count": 65,
   "metadata": {},
   "outputs": [
    {
     "name": "stdout",
     "output_type": "stream",
     "text": [
      "first name has been updated\n",
      "last name has been updated\n",
      "{'first-name': 'Aiza', 'last-name': 'Salieva', 'username': 'aziza93', 'group': 'Devops', 'first_name': 'Aiza', 'last_name': 'Salieva'}\n",
      "{'first-name': 'Aiza', 'last-name': 'Salieva', 'username': 'aziza93', 'group': 'Devops', 'first_name': 'Aiza', 'last_name': 'Salieva'}\n"
     ]
    }
   ],
   "source": [
    "change_fullname('aziza93', 'Aiza', 'Salieva')\n",
    "for item in evolveCyberDatabase:\n",
    "    print(item)"
   ]
  }
 ],
 "metadata": {
  "kernelspec": {
   "display_name": "Python 3",
   "language": "python",
   "name": "python3"
  },
  "language_info": {
   "codemirror_mode": {
    "name": "ipython",
    "version": 3
   },
   "file_extension": ".py",
   "mimetype": "text/x-python",
   "name": "python",
   "nbconvert_exporter": "python",
   "pygments_lexer": "ipython3",
   "version": "3.6.5"
  }
 },
 "nbformat": 4,
 "nbformat_minor": 2
}
