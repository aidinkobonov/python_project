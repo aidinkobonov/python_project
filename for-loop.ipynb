{
 "cells": [
  {
   "cell_type": "code",
   "execution_count": null,
   "metadata": {},
   "outputs": [],
   "source": [
    "For loop and while loop\n"
   ]
  },
  {
   "cell_type": "code",
   "execution_count": null,
   "metadata": {},
   "outputs": [],
   "source": [
    "users = ['adbul', 'nodira', 'zhanna']\n",
    "for user in users:\n",
    "    print(user)\n",
    "    \n",
    "for item in range(0, 3):\n",
    "    print('Hello')\n",
    "    "
   ]
  },
  {
   "cell_type": "code",
   "execution_count": null,
   "metadata": {},
   "outputs": [],
   "source": [
    "for number in range(1, 4):\n",
    "    print (number, 'hello')"
   ]
  },
  {
   "cell_type": "code",
   "execution_count": null,
   "metadata": {},
   "outputs": [],
   "source": [
    "data = [\n",
    "    {\n",
    "    \"avatar\": \"https://s3.amazonaws.com/uifaces/faces/twitter/marcoramires/128.jpg\",\n",
    "    \"first_name\": \"Eve\",\n",
    "    \"id\": 4,\n",
    "    \"last_name\": \"Holt\"\n",
    "    },\n",
    "    {\n",
    "    \"avatar\": \"https://s3.amazonaws.com/uifaces/faces/twitter/stephenmoon/128.jpg\",\n",
    "    \"first_name\": \"Charles\",\n",
    "    \"id\": 5,\n",
    "    \"last_name\": \"Morris\"\n",
    "    },\n",
    "    {\n",
    "    \"avatar\": \"https://s3.amazonaws.com/uifaces/faces/twitter/bigmancho/128.jpg\",\n",
    "    \"first_name\": \"Tracey\",\n",
    "    \"id\": 6,\n",
    "    \"last_name\": \"Ramos\"\n",
    "    }\n",
    "]\n",
    "\n",
    "print(data[1])"
   ]
  },
  {
   "cell_type": "code",
   "execution_count": null,
   "metadata": {},
   "outputs": [],
   "source": [
    "data = [\n",
    "    {\n",
    "    \"avatar\": \"https://s3.amazonaws.com/uifaces/faces/twitter/marcoramires/128.jpg\",\n",
    "    \"first_name\": \"Eve\",\n",
    "    \"id\": 4,\n",
    "    \"last_name\": \"Holt\"\n",
    "    },\n",
    "    {\n",
    "    \"avatar\": \"https://s3.amazonaws.com/uifaces/faces/twitter/stephenmoon/128.jpg\",\n",
    "    \"first_name\": \"Charles\",\n",
    "    \"id\": 5,\n",
    "    \"last_name\": \"Morris\"\n",
    "    },\n",
    "    {\n",
    "    \"avatar\": \"https://s3.amazonaws.com/uifaces/faces/twitter/bigmancho/128.jpg\",\n",
    "    \"first_name\": \"Tracey\",\n",
    "    \"id\": 6,\n",
    "    \"last_name\": \"Ramos\"\n",
    "    }\n",
    "]\n",
    "\n",
    "for user in data:\n",
    "    if user['first_name'] == 'Charles':\n",
    "        print(user)"
   ]
  },
  {
   "cell_type": "code",
   "execution_count": null,
   "metadata": {},
   "outputs": [],
   "source": [
    "my_string = 'This is my string'\n",
    "print(my_string)\n",
    "\n",
    "for item in my_string:\n",
    "    print(item)\n",
    "if 'This' in my_string:\n",
    "    print('Yes it is')"
   ]
  },
  {
   "cell_type": "code",
   "execution_count": null,
   "metadata": {},
   "outputs": [],
   "source": [
    "my_string = 'This is my string'\n",
    "print(my_string)\n",
    "\n",
    "for item in my_string.split(' '):\n",
    "    print(item)\n",
    "if 'This' in my_string:\n",
    "    print('Yes it is')"
   ]
  },
  {
   "cell_type": "code",
   "execution_count": null,
   "metadata": {},
   "outputs": [],
   "source": [
    "my_string = 'This is my string'\n",
    "#print(my_string)\n",
    "\n",
    "my_string = 'this is my string'\n",
    "print(my_string)\n",
    "\n",
    "for item in my_string.split(' '):\n",
    "    print(item)\n",
    "\n",
    "if 'This' in my_string:\n",
    "    print('Yes it is')"
   ]
  },
  {
   "cell_type": "code",
   "execution_count": null,
   "metadata": {},
   "outputs": [],
   "source": [
    "import os\n",
    "users = ['Anna', 'Zhanna', 'Abdul', 'Alibek']\n",
    "for user in users:\n",
    "    print(user)\n",
    "    os.system(f'useradd {user}')"
   ]
  },
  {
   "cell_type": "code",
   "execution_count": null,
   "metadata": {},
   "outputs": [],
   "source": [
    "!cat /etc/passwd"
   ]
  },
  {
   "cell_type": "code",
   "execution_count": null,
   "metadata": {},
   "outputs": [],
   "source": [
    "import os\n",
    "users = ['Anna', 'Zhanna', 'Abdul', 'Alibek']\n",
    "for user in users:\n",
    "    print(user)\n",
    "    os.system(f'rm -rf {user}')"
   ]
  },
  {
   "cell_type": "code",
   "execution_count": null,
   "metadata": {},
   "outputs": [],
   "source": [
    "!ls"
   ]
  },
  {
   "cell_type": "code",
   "execution_count": null,
   "metadata": {},
   "outputs": [],
   "source": [
    "data = [\n",
    "    {\n",
    "    \"avatar\": \"https://s3.amazonaws.com/uifaces/faces/twitter/marcoramires/128.jpg\",\n",
    "    \"first_name\": \"Eve\",\n",
    "    \"id\": 4,\n",
    "    \"last_name\": \"Holt\"\n",
    "    },\n",
    "    {\n",
    "    \"avatar\": \"https://s3.amazonaws.com/uifaces/faces/twitter/stephenmoon/128.jpg\",\n",
    "    \"first_name\": \"Charles\",\n",
    "    \"id\": 5,\n",
    "    \"last_name\": \"Morris\"\n",
    "    },\n",
    "    {\n",
    "    \"avatar\": \"https://s3.amazonaws.com/uifaces/faces/twitter/bigmancho/128.jpg\",\n",
    "    \"first_name\": \"Tracey\",\n",
    "    \"id\": 6,\n",
    "    \"last_name\": \"Ramos\"\n",
    "    }\n",
    "]\n",
    "\n",
    "for user in data:\n",
    "    if 'Farkhod' == user['first_name']:\n",
    "        print('User found')\n",
    "else:\n",
    "    print('User can not be found')"
   ]
  },
  {
   "cell_type": "code",
   "execution_count": null,
   "metadata": {
    "collapsed": true
   },
   "outputs": [],
   "source": [
    "student = {'username' : 'abdulsharif',\n",
    "          'password' : 'redhat',\n",
    "          'classes': ['Python', 'Jenkins', 'Ansible']}\n",
    "\n",
    "print('########################################')\n",
    "print(f'## {student[\"username\"]}')\n",
    "for item in student['classes']:\n",
    "      print(item)\n",
    "      \n"
   ]
  },
  {
   "cell_type": "code",
   "execution_count": 1,
   "metadata": {},
   "outputs": [
    {
     "name": "stdout",
     "output_type": "stream",
     "text": [
      "Please enter Full Name :Aidin Kobonov\n",
      "Please enter username :aidinkobonov\n",
      "Please enter password :redhat\n",
      "User has been created!\n",
      "Do you want to stop it yes/no:\n",
      "Please enter Full Name :aAbdul Sharif\n",
      "Please enter username :abdulsharif\n",
      "Please enter password :redhat\n",
      "User has been created!\n",
      "Do you want to stop it yes/no:yes\n",
      "bye\n"
     ]
    }
   ],
   "source": [
    "dataBase = []\n",
    "while True:\n",
    "    studentObject = {}\n",
    "    studentObject['full_name'] = input('Please enter Full Name :')\n",
    "    studentObject['username'] = input('Please enter username :')\n",
    "    studentObject['password'] = input('Please enter password :')\n",
    "    dataBase.append(studentObject)\n",
    "    print('User has been created!')\n",
    "    answer = input('Do you want to stop it yes/no:')\n",
    "    if answer == 'yes':\n",
    "        print('bye')\n",
    "        break"
   ]
  },
  {
   "cell_type": "code",
   "execution_count": 2,
   "metadata": {},
   "outputs": [
    {
     "name": "stdout",
     "output_type": "stream",
     "text": [
      "[{'full_name': 'Aidin Kobonov', 'username': 'aidinkobonov', 'password': 'redhat'}, {'full_name': 'aAbdul Sharif', 'username': 'abdulsharif', 'password': 'redhat'}]\n"
     ]
    }
   ],
   "source": [
    "print(dataBase)"
   ]
  },
  {
   "cell_type": "code",
   "execution_count": null,
   "metadata": {},
   "outputs": [],
   "source": [
    "dataBase = []\n",
    "import time\n",
    "yesAnswer = ['YES', 'Yes', 'y', 'Y', 'YeS', 'yes']\n",
    "while True:\n",
    "    studentObject = {}\n",
    "    studentObject['full_name'] = input('Please enter Full Name :').capitalize()\n",
    "    studentObject['username'] = input('Please enter username :').lower()\n",
    "    studentObject['password'] = input('Please enter password :')\n",
    "    time.sleep(2)\n",
    "    dataBase.append(studentObject)\n",
    "    print('User has been created!')\n",
    "    answer = input('Do you want to stop it yes/no:')\n",
    "    if answer in yesAnswer:\n",
    "        print('bye')\n",
    "        break"
   ]
  }
 ],
 "metadata": {
  "kernelspec": {
   "display_name": "Python 3",
   "language": "python",
   "name": "python3"
  },
  "language_info": {
   "codemirror_mode": {
    "name": "ipython",
    "version": 3
   },
   "file_extension": ".py",
   "mimetype": "text/x-python",
   "name": "python",
   "nbconvert_exporter": "python",
   "pygments_lexer": "ipython3",
   "version": "3.6.5"
  }
 },
 "nbformat": 4,
 "nbformat_minor": 2
}
