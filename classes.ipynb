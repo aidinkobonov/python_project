{
 "cells": [
  {
   "cell_type": "code",
   "execution_count": 7,
   "metadata": {},
   "outputs": [
    {
     "name": "stdout",
     "output_type": "stream",
     "text": [
      "[]\n",
      "Kyle has been added to Database!\n",
      "Emma has been added to Database!\n",
      "[{'First Name': 'Kyle', 'Last Name': 'Smith', 'Gender': 'Male', 'Status': True}, {'First Name': 'Emma', 'Last Name': 'Miller', 'Gender': 'Female', 'Status': False}]\n"
     ]
    }
   ],
   "source": [
    "dataBase = []\n",
    "\n",
    "class Human:\n",
    "    \n",
    "    def __init__(self, givenFirstName, givenLastName, givenGender, givenStatus=None):\n",
    "        self.fname = givenFirstName\n",
    "        self.lname = givenLastName\n",
    "        self.gender = givenGender\n",
    "        self.status = givenStatus\n",
    "        if givenStatus is None:\n",
    "            self.status = False\n",
    "        \n",
    "    def print_info(self):\n",
    "        print(f'Hello,\\n my name is {self.lname}')\n",
    "        \n",
    "    def save_info(self):\n",
    "        \n",
    "        dataBase.append({\n",
    "            'First Name': self.fname,\n",
    "            'Last Name': self.lname,\n",
    "            'Gender': self.gender,\n",
    "            'Status': self.status})\n",
    "                \n",
    "        print(f'{self.fname} has been added to Database!')\n",
    "        \n",
    "user1 = Human('Kyle', 'Smith', 'Male', True)\n",
    "user2 = Human('Emma', 'Miller', 'Female')\n",
    "\n",
    "print(dataBase)\n",
    "user1.save_info()\n",
    "user2.save_info()\n",
    "print(dataBase)\n"
   ]
  },
  {
   "cell_type": "code",
   "execution_count": null,
   "metadata": {},
   "outputs": [],
   "source": [
    "\n",
    "\n",
    "print(user1.lname)\n",
    "user1.lname = 'Miller'\n",
    "print(user1.lname)"
   ]
  },
  {
   "cell_type": "code",
   "execution_count": null,
   "metadata": {},
   "outputs": [],
   "source": [
    "#user2 = Human()\n",
    "#user2.fname = 'Emma'\n",
    "#user2.lname = 'Miller'\n",
    "#user2.gender = 'female'\n",
    "#user2.status = True"
   ]
  },
  {
   "cell_type": "code",
   "execution_count": null,
   "metadata": {},
   "outputs": [],
   "source": [
    "#print(user1.fname)\n",
    "#print(user2.fname)\n",
    "\n",
    "user1.print_info()\n",
    "user2.print_info()"
   ]
  },
  {
   "cell_type": "code",
   "execution_count": 8,
   "metadata": {},
   "outputs": [],
   "source": [
    "dataBase = []\n",
    "\n",
    "       \n",
    "        \n",
    "class Student(object):\n",
    "    \n",
    "    def __init__(self, givenFirstName, givenLastName, givenGender, givenStatus=None):\n",
    "        self.fname  = givenFirstName\n",
    "        self.lname  = givenLastName\n",
    "        self.gender = givenGender\n",
    "        self.status = givenStatus\n",
    "        if givenStatus is None:\n",
    "            self.status = False\n",
    "        \n",
    "\n",
    "    def print_info(self):\n",
    "        print(f'Hi My name is {self.fname}')\n",
    "\n",
    "\n",
    "    def save_info(self):\n",
    "        \n",
    "        dataBase.append({\n",
    "               'FirstName': self.fname,\n",
    "               'LastName': self.lname,\n",
    "               'Gender': self.gender,\n",
    "               'Status': self.status})\n",
    "        print(f'{self.fname} has been added to Database!!')\n",
    "        \n",
    "\n",
    "class Manager(Student):\n",
    "    def __init__(self, givenFirstName, givenLastName, givenGender, givenRole, givenStatus=None):\n",
    "        self.role = givenRole\n",
    "        \n",
    "        super().__init__(self, givenFirstName, givenLastName, givenGender, givenStatus=None)\n",
    "    \n",
    "    def delete_user(self, name):\n",
    "        for user in dataBase:\n",
    "            if name in user['FirstName']:\n",
    "                dataBase.remove(user)\n",
    "                print(f'{user[\"FirstName\"]} has been deleted ')\n",
    "                break\n",
    "        else:\n",
    "            print('User not found')\n",
    "            \n",
    "\n",
    "user1 = Student('Kyle', 'Smith', 'Male', True)\n",
    "user2 = Student('Emma', 'Miller', 'Female')\n",
    "user3 = Student('Madina', 'Kyrgyzbayeva', 'Female')\n",
    "user4 = Student('Abdul', 'Sharif', 'Male')\n",
    "manager = Manager('Nodira', 'Saip', 'Female', True)"
   ]
  },
  {
   "cell_type": "code",
   "execution_count": 9,
   "metadata": {},
   "outputs": [
    {
     "name": "stdout",
     "output_type": "stream",
     "text": [
      "[]\n",
      "Kyle has been added to Database!!\n",
      "Emma has been added to Database!!\n",
      "Madina has been added to Database!!\n",
      "Abdul has been added to Database!!\n",
      "Abdul has been deleted \n",
      "[{'FirstName': 'Kyle', 'LastName': 'Smith', 'Gender': 'Male', 'Status': True}, {'FirstName': 'Emma', 'LastName': 'Miller', 'Gender': 'Female', 'Status': False}, {'FirstName': 'Madina', 'LastName': 'Kyrgyzbayeva', 'Gender': 'Female', 'Status': False}]\n"
     ]
    }
   ],
   "source": [
    "print(dataBase)\n",
    "user1.save_info()\n",
    "user2.save_info()\n",
    "user3.save_info()\n",
    "user4.save_info()\n",
    "manager.delete_user('Abdul')\n",
    "print(dataBase)"
   ]
  },
  {
   "cell_type": "markdown",
   "metadata": {},
   "source": []
  }
 ],
 "metadata": {
  "kernelspec": {
   "display_name": "Python 3",
   "language": "python",
   "name": "python3"
  },
  "language_info": {
   "codemirror_mode": {
    "name": "ipython",
    "version": 3
   },
   "file_extension": ".py",
   "mimetype": "text/x-python",
   "name": "python",
   "nbconvert_exporter": "python",
   "pygments_lexer": "ipython3",
   "version": "3.6.5"
  }
 },
 "nbformat": 4,
 "nbformat_minor": 2
}
