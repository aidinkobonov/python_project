{
 "cells": [
  {
   "cell_type": "code",
   "execution_count": 35,
   "metadata": {},
   "outputs": [
    {
     "name": "stdout",
     "output_type": "stream",
     "text": [
      "env: DIGITAL_TOKEN=f31d00fcbe4ee0daf09bdf0eb5db6a9816a175c1cf2ef00bf9404b29e9253481\n"
     ]
    }
   ],
   "source": [
    "%set_env DIGITAL_TOKEN=f31d00fcbe4ee0daf09bdf0eb5db6a9816a175c1cf2ef00bf9404b29e9253481"
   ]
  },
  {
   "cell_type": "code",
   "execution_count": 37,
   "metadata": {},
   "outputs": [
    {
     "ename": "TypeError",
     "evalue": "create_droplet() takes 1 positional argument but 2 were given",
     "output_type": "error",
     "traceback": [
      "\u001b[0;31m---------------------------------------------------------------------------\u001b[0m",
      "\u001b[0;31mTypeError\u001b[0m                                 Traceback (most recent call last)",
      "\u001b[0;32m<ipython-input-37-ee8095f05258>\u001b[0m in \u001b[0;36m<module>\u001b[0;34m\u001b[0m\n\u001b[1;32m     38\u001b[0m \u001b[0mdroplet_list\u001b[0m \u001b[0;34m=\u001b[0m \u001b[0;34m[\u001b[0m\u001b[0;34m'MYSQL'\u001b[0m\u001b[0;34m,\u001b[0m \u001b[0;34m'HTTPD-SERVER'\u001b[0m\u001b[0;34m,\u001b[0m \u001b[0;34m'DOCKER'\u001b[0m\u001b[0;34m,\u001b[0m \u001b[0;34m'DAC-SERVER'\u001b[0m\u001b[0;34m]\u001b[0m\u001b[0;34m\u001b[0m\u001b[0m\n\u001b[1;32m     39\u001b[0m \u001b[0;32mfor\u001b[0m \u001b[0mdroplet\u001b[0m \u001b[0;32min\u001b[0m \u001b[0mdroplet_list\u001b[0m\u001b[0;34m:\u001b[0m\u001b[0;34m\u001b[0m\u001b[0m\n\u001b[0;32m---> 40\u001b[0;31m     \u001b[0mcreate_droplet\u001b[0m\u001b[0;34m(\u001b[0m\u001b[0mdroplet\u001b[0m\u001b[0;34m,\u001b[0m \u001b[0;34m'ubuntu-16-04-x64'\u001b[0m\u001b[0;34m)\u001b[0m\u001b[0;34m\u001b[0m\u001b[0m\n\u001b[0m",
      "\u001b[0;31mTypeError\u001b[0m: create_droplet() takes 1 positional argument but 2 were given"
     ]
    }
   ],
   "source": [
    "import os\n",
    "import requests\n",
    "token = os.environ.get('DIGITAL_TOKEN')\n",
    "auth = {\n",
    "        \"Authorization\" : \"Bearer {}\".format(os.environ.get('DIGITAL_TOKEN')),\n",
    "        \"Content-Type\" : \"application/json\"\n",
    "}\n",
    "def get_list_droplets():\n",
    "    url = \"https://api.digitalocean.com/v2/droplets?page=1&per_page=1\"\n",
    "    response = requests.get(url=url, headers=auth)\n",
    "    if response.status_code == 200:\n",
    "        print(response.json())\n",
    "    else:\n",
    "        print(f'API returned {response.status_code}')\n",
    "        \n",
    "\n",
    "def create_droplet(name):\n",
    "    url = \"https://api.digitalocean.com/v2/droplets\"\n",
    "    droplet = {'name': name, \n",
    "               'region': 'nyc3', \n",
    "               'size': 's-1vcpu-1gb', \n",
    "               #'image': 'ubuntu-16-04-x64',\n",
    "               'image': image,\n",
    "               #'ssh_keys': [107149], \n",
    "               'backups': False, \n",
    "               'ipv6': True, \n",
    "               'user_data': None, \n",
    "               'private_networking': None, \n",
    "               'volumes': None, \n",
    "               'tags': ['web']}\n",
    "      \n",
    "    response = requests.post(url=url, headers=auth, json=droplet)\n",
    "    if response.status_code == 200 and response.status_code == 202:\n",
    "        print('Droplet has been created!')\n",
    "    else:\n",
    "        print(f'API returned {response.status_code}')\n",
    "        \n",
    "droplet_list = ['MYSQL', 'HTTPD-SERVER', 'DOCKER', 'DAC-SERVER']\n",
    "for droplet in droplet_list:\n",
    "    create_droplet(droplet, 'ubuntu-16-04-x64')"
   ]
  },
  {
   "cell_type": "code",
   "execution_count": 36,
   "metadata": {},
   "outputs": [
    {
     "name": "stdout",
     "output_type": "stream",
     "text": [
      "{'name': 'example.com', 'region': 'nyc3', 'size': 's-1vcpu-1gb', 'image': 'ubuntu-16-04-x64', 'ssh_keys': [107149], 'backups': False, 'ipv6': True, 'user_data': None, 'private_networking': None, 'volumes': None, 'tags': ['web']}\n"
     ]
    }
   ],
   "source": [
    "import json\n",
    "print(json.loads('{\"name\":\"example.com\",\"region\":\"nyc3\",\"size\":\"s-1vcpu-1gb\",\"image\":\"ubuntu-16-04-x64\",\"ssh_keys\":[107149],\"backups\":false,\"ipv6\":true,\"user_data\":null,\"private_networking\":null,\"volumes\": null,\"tags\":[\"web\"]}'))"
   ]
  }
 ],
 "metadata": {
  "kernelspec": {
   "display_name": "Python 3",
   "language": "python",
   "name": "python3"
  },
  "language_info": {
   "codemirror_mode": {
    "name": "ipython",
    "version": 3
   },
   "file_extension": ".py",
   "mimetype": "text/x-python",
   "name": "python",
   "nbconvert_exporter": "python",
   "pygments_lexer": "ipython3",
   "version": "3.6.5"
  }
 },
 "nbformat": 4,
 "nbformat_minor": 2
}
